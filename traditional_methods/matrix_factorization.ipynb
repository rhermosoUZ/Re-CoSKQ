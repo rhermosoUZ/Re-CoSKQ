{
 "cells": [
  {
   "cell_type": "code",
   "execution_count": 1,
   "metadata": {},
   "outputs": [],
   "source": [
    "import numpy as np\n",
    "import pandas as pd\n",
    "import matplotlib.pyplot as plt\n",
    "%matplotlib inline\n",
    "import seaborn as sns\n",
    "import tensorflow as tf"
   ]
  },
  {
   "cell_type": "code",
   "execution_count": 19,
   "metadata": {},
   "outputs": [
    {
     "data": {
      "text/plain": [
       "array([[0, 2, 1, 3, 2, 1, 1, 1, 1],\n",
       "       [0, 0, 1, 2, 2, 1, 0, 4, 1],\n",
       "       [2, 2, 4, 4, 4, 3, 1, 0, 4],\n",
       "       [4, 3, 1, 2, 0, 4, 3, 2, 4]])"
      ]
     },
     "execution_count": 19,
     "metadata": {},
     "output_type": "execute_result"
    }
   ],
   "source": [
    "ratings_matrix = np.random.randint(0, 5, size=(4, 9))\n",
    "ratings_matrix"
   ]
  },
  {
   "cell_type": "code",
   "execution_count": 27,
   "metadata": {},
   "outputs": [],
   "source": [
    "for index1 in range(ratings_matrix.shape[0]):\n",
    "    for index2 in range(ratings_matrix.shape[1]):\n",
    "        ratings_matrix[index1, index2] += 1"
   ]
  },
  {
   "cell_type": "code",
   "execution_count": 28,
   "metadata": {},
   "outputs": [
    {
     "data": {
      "text/plain": [
       "array([[3, 4, 3, 5, 4, 3, 3, 3, 3],\n",
       "       [3, 2, 3, 4, 4, 3, 2, 6, 3],\n",
       "       [5, 4, 6, 6, 6, 5, 3, 2, 6],\n",
       "       [7, 5, 3, 4, 2, 6, 5, 4, 6]])"
      ]
     },
     "execution_count": 28,
     "metadata": {},
     "output_type": "execute_result"
    }
   ],
   "source": [
    "ratings_matrix"
   ]
  },
  {
   "cell_type": "code",
   "execution_count": 16,
   "metadata": {},
   "outputs": [],
   "source": [
    "initial_ratings = tf.placeholder(tf.float64, shape=ratings_matrix.shape)"
   ]
  },
  {
   "cell_type": "code",
   "execution_count": 4,
   "metadata": {},
   "outputs": [
    {
     "data": {
      "text/plain": [
       "(4, 9)"
      ]
     },
     "execution_count": 4,
     "metadata": {},
     "output_type": "execute_result"
    }
   ],
   "source": [
    "ratings_matrix.shape"
   ]
  },
  {
   "cell_type": "code",
   "execution_count": 5,
   "metadata": {},
   "outputs": [],
   "source": [
    "number_of_latent_features = 4\n",
    "number_of_users = ratings_matrix.shape[0]\n",
    "number_of_items = ratings_matrix.shape[1]"
   ]
  },
  {
   "cell_type": "code",
   "execution_count": 33,
   "metadata": {},
   "outputs": [],
   "source": [
    "left_values = np.random.uniform(size=(number_of_users, number_of_latent_features))\n",
    "top_values = np.random.uniform(size=(number_of_latent_features, number_of_items))"
   ]
  },
  {
   "cell_type": "code",
   "execution_count": 34,
   "metadata": {},
   "outputs": [],
   "source": [
    "left = tf.Variable(left_values)\n",
    "top = tf.Variable(top_values)"
   ]
  },
  {
   "cell_type": "code",
   "execution_count": 35,
   "metadata": {},
   "outputs": [],
   "source": [
    "result_matrix = tf.matmul(left, top)"
   ]
  },
  {
   "cell_type": "code",
   "execution_count": 36,
   "metadata": {},
   "outputs": [],
   "source": [
    "error = result_matrix - initial_ratings"
   ]
  },
  {
   "cell_type": "code",
   "execution_count": 40,
   "metadata": {},
   "outputs": [],
   "source": [
    "learning_rate = 0.1"
   ]
  },
  {
   "cell_type": "code",
   "execution_count": 10,
   "metadata": {},
   "outputs": [],
   "source": [
    "error_trace = []"
   ]
  },
  {
   "cell_type": "code",
   "execution_count": 37,
   "metadata": {},
   "outputs": [
    {
     "data": {
      "text/plain": [
       "array([[0, 0, 0, 0, 0, 0, 0, 0, 0],\n",
       "       [0, 0, 0, 0, 0, 0, 0, 0, 0],\n",
       "       [0, 0, 0, 0, 0, 0, 0, 0, 0],\n",
       "       [0, 0, 0, 0, 0, 0, 0, 0, 0]])"
      ]
     },
     "execution_count": 37,
     "metadata": {},
     "output_type": "execute_result"
    }
   ],
   "source": [
    "ratings_matrix - ratings_matrix"
   ]
  },
  {
   "cell_type": "code",
   "execution_count": 46,
   "metadata": {},
   "outputs": [],
   "source": [
    "init = tf.global_variables_initializer()\n",
    "with tf.Session() as sess:\n",
    "    sess.run(init)\n",
    "    epochs = 500\n",
    "    for i in range(epochs):\n",
    "        left_values, top_values, result = sess.run([left, top, result_matrix])\n",
    "        result, current_error = sess.run([result_matrix, error], feed_dict={initial_ratings:ratings_matrix})\n",
    "        for index1 in range(current_error.shape[0]):\n",
    "            for index2 in range(current_error.shape[1]):\n",
    "                if current_error[index1, index2] < 0.0:\n",
    "                    top_values[index1, index2] += learning_rate\n",
    "                elif current_error[index1, index2] > 0.0:\n",
    "                    top_values[index1, index2] -= learning_rate\n",
    "        sess.run(top.assign(top_values))\n",
    "    final_result = sess.run([result_matrix])"
   ]
  },
  {
   "cell_type": "code",
   "execution_count": 48,
   "metadata": {},
   "outputs": [
    {
     "data": {
      "text/plain": [
       "[array([[ -6.33244279,  -7.41042465,  -7.92448674,  -7.47551699,\n",
       "          -7.42382894,  -6.87746025,  -7.32312783,  -4.83457515,\n",
       "          -7.0126139 ],\n",
       "        [ 29.3948041 ,  27.3698693 ,  25.43133948,  26.64958855,\n",
       "          24.99433658,  28.19709355,  27.53643196,  -2.55304321,\n",
       "          28.29163927],\n",
       "        [-11.44667504, -12.91759189, -13.3072175 , -12.58024812,\n",
       "         -11.40496131, -11.97223598, -12.83224024,  17.0532381 ,\n",
       "         -12.3210762 ],\n",
       "        [  7.05444568,   5.15573377,   3.18504432,   4.16813187,\n",
       "           2.17760077,   6.02560214,   5.17310339,   4.1081933 ,\n",
       "           6.07444705]])]"
      ]
     },
     "execution_count": 48,
     "metadata": {},
     "output_type": "execute_result"
    }
   ],
   "source": [
    "final_result"
   ]
  },
  {
   "cell_type": "code",
   "execution_count": 85,
   "metadata": {},
   "outputs": [
    {
     "data": {
      "text/plain": [
       "array([[0.84944717, 0.74707447, 0.93262892, 0.068411  ],\n",
       "       [0.53843405, 0.85026753, 0.30181285, 0.83954895],\n",
       "       [0.08976507, 0.14680962, 0.537944  , 0.14070203],\n",
       "       [0.81691871, 0.9715177 , 0.29257988, 0.49974493]])"
      ]
     },
     "execution_count": 85,
     "metadata": {},
     "output_type": "execute_result"
    }
   ],
   "source": [
    "left_values"
   ]
  },
  {
   "cell_type": "code",
   "execution_count": 86,
   "metadata": {},
   "outputs": [
    {
     "data": {
      "text/plain": [
       "array([[0.58649769, 0.32305708, 0.20936797, 0.58898568, 0.52357111,\n",
       "        0.36192882, 0.16444432, 0.00752639, 0.23017978],\n",
       "       [0.17377467, 0.12995526, 0.47024484, 0.27478592, 0.24189584,\n",
       "        0.40137419, 0.68770918, 0.10698268, 0.36741939],\n",
       "       [0.07851974, 0.05664893, 0.66153133, 0.21358877, 0.73711296,\n",
       "        0.32758481, 0.69355848, 0.70031996, 0.82933178],\n",
       "       [0.56492711, 0.57103265, 0.97405308, 0.13060516, 0.73997658,\n",
       "        0.91698949, 0.10822409, 0.83004644, 0.85062881]])"
      ]
     },
     "execution_count": 86,
     "metadata": {},
     "output_type": "execute_result"
    }
   ],
   "source": [
    "top_values"
   ]
  },
  {
   "cell_type": "code",
   "execution_count": 87,
   "metadata": {},
   "outputs": [
    {
     "data": {
      "text/plain": [
       "array([[0.73989843, 0.46340352, 1.21275414, 0.91373166, 1.36353561,\n",
       "        0.97554306, 1.30769315, 0.79624026, 1.30166637],\n",
       "       [0.96152751, 0.7809489 , 1.52998865, 0.72488475, 1.33130142,\n",
       "        1.40487711, 0.97346349, 1.00324654, 1.40078892],\n",
       "       [0.19988441, 0.15889732, 0.58074844, 0.22648676, 0.58315273,\n",
       "        0.39665872, 0.50404665, 0.50990383, 0.64042206],\n",
       "       [0.95323886, 0.69211021, 1.30821664, 0.87587385, 1.24818509,\n",
       "        1.23971412, 1.05946498, 0.72979504, 1.21273583]])"
      ]
     },
     "execution_count": 87,
     "metadata": {},
     "output_type": "execute_result"
    }
   ],
   "source": [
    "result"
   ]
  },
  {
   "cell_type": "code",
   "execution_count": 88,
   "metadata": {},
   "outputs": [
    {
     "data": {
      "text/plain": [
       "(4, 9)"
      ]
     },
     "execution_count": 88,
     "metadata": {},
     "output_type": "execute_result"
    }
   ],
   "source": [
    "result.shape"
   ]
  },
  {
   "cell_type": "code",
   "execution_count": 109,
   "metadata": {},
   "outputs": [
    {
     "data": {
      "text/plain": [
       "array([[0, 0, 0, 0, 0, 0, 0, 0, 0],\n",
       "       [0, 0, 0, 0, 0, 0, 0, 0, 0],\n",
       "       [0, 0, 0, 0, 0, 0, 0, 0, 0],\n",
       "       [0, 0, 0, 0, 0, 0, 0, 0, 0]])"
      ]
     },
     "execution_count": 109,
     "metadata": {},
     "output_type": "execute_result"
    }
   ],
   "source": [
    "current_error"
   ]
  }
 ],
 "metadata": {
  "kernelspec": {
   "display_name": "Python 3",
   "language": "python",
   "name": "python3"
  },
  "language_info": {
   "codemirror_mode": {
    "name": "ipython",
    "version": 3
   },
   "file_extension": ".py",
   "mimetype": "text/x-python",
   "name": "python",
   "nbconvert_exporter": "python",
   "pygments_lexer": "ipython3",
   "version": "3.7.4"
  }
 },
 "nbformat": 4,
 "nbformat_minor": 4
}
